{
 "cells": [
  {
   "cell_type": "code",
   "execution_count": 6,
   "metadata": {},
   "outputs": [
    {
     "data": {
      "image/png": "[encoded data removed]",
      "text/plain": [
       "<Figure size 432x288 with 1 Axes>"
      ]
     },
     "metadata": {
      "needs_background": "light"
     },
     "output_type": "display_data"
    }
   ],
   "source": [
    "from scipy.stats import beta\n",
    "import numpy as np\n",
    "import matplotlib.pyplot as plt\n",
    "fig, ax = plt.subplots(1, 1)"
   ]
  },
  {
   "cell_type": "code",
   "execution_count": 26,
   "metadata": {},
   "outputs": [
    {
     "ename": "NameError",
     "evalue": "name 'sps' is not defined",
     "output_type": "error",
     "traceback": [
      "\u001b[0;31m---------------------------------------------------------------------------\u001b[0m",
      "\u001b[0;31mNameError\u001b[0m                                 Traceback (most recent call last)",
      "\u001b[1;32m/Users/kevingeorge/Documents/projects/oms/test.ipynb Cell 2'\u001b[0m in \u001b[0;36m<module>\u001b[0;34m\u001b[0m\n\u001b[1;32m      <a href='vscode-notebook-cell:/Users/kevingeorge/Documents/projects/oms/test.ipynb#ch0000002?line=1'>2</a>\u001b[0m s \u001b[39m=\u001b[39m np\u001b[39m.\u001b[39mrandom\u001b[39m.\u001b[39mstandard_gamma(shape, \u001b[39m500\u001b[39m)\n\u001b[1;32m      <a href='vscode-notebook-cell:/Users/kevingeorge/Documents/projects/oms/test.ipynb#ch0000002?line=2'>3</a>\u001b[0m count, bins, ignored \u001b[39m=\u001b[39m plt\u001b[39m.\u001b[39mhist(s, \u001b[39m50\u001b[39m, density\u001b[39m=\u001b[39m\u001b[39mTrue\u001b[39;00m)\n\u001b[1;32m      <a href='vscode-notebook-cell:/Users/kevingeorge/Documents/projects/oms/test.ipynb#ch0000002?line=3'>4</a>\u001b[0m y \u001b[39m=\u001b[39m bins\u001b[39m*\u001b[39m\u001b[39m*\u001b[39m(shape\u001b[39m-\u001b[39m\u001b[39m1\u001b[39m) \u001b[39m*\u001b[39m ((np\u001b[39m.\u001b[39mexp(\u001b[39m-\u001b[39mbins\u001b[39m/\u001b[39mscale))\u001b[39m/\u001b[39m  \n\u001b[0;32m----> <a href='vscode-notebook-cell:/Users/kevingeorge/Documents/projects/oms/test.ipynb#ch0000002?line=4'>5</a>\u001b[0m                       (sps\u001b[39m.\u001b[39mgamma(shape) \u001b[39m*\u001b[39m scale\u001b[39m*\u001b[39m\u001b[39m*\u001b[39mshape))\n\u001b[1;32m      <a href='vscode-notebook-cell:/Users/kevingeorge/Documents/projects/oms/test.ipynb#ch0000002?line=5'>6</a>\u001b[0m plt\u001b[39m.\u001b[39mplot(bins, y, linewidth\u001b[39m=\u001b[39m\u001b[39m2\u001b[39m, color\u001b[39m=\u001b[39m\u001b[39m'\u001b[39m\u001b[39mr\u001b[39m\u001b[39m'\u001b[39m)  \n\u001b[1;32m      <a href='vscode-notebook-cell:/Users/kevingeorge/Documents/projects/oms/test.ipynb#ch0000002?line=6'>7</a>\u001b[0m plt\u001b[39m.\u001b[39mshow()\n",
      "\u001b[0;31mNameError\u001b[0m: name 'sps' is not defined"
     ]
    },
    {
     "data": {
      "image/png": "[encoded data removed]",
      "text/plain": [
       "<Figure size 432x288 with 1 Axes>"
      ]
     },
     "metadata": {
      "needs_background": "light"
     },
     "output_type": "display_data"
    }
   ],
   "source": [
    "shape, scale = 2., 1. # mean and width\n",
    "s = np.random.standard_gamma(shape, 500)\n",
    "count, bins, ignored = plt.hist(s, 50, density=True)\n",
    "y = bins**(shape-1) * ((np.exp(-bins/scale))/  \n",
    "                      (sps.gamma(shape) * scale**shape))\n",
    "plt.plot(bins, y, linewidth=2, color='r')  \n",
    "plt.show()\n"
   ]
  },
  {
   "cell_type": "code",
   "execution_count": 24,
   "metadata": {},
   "outputs": [
    {
     "data": {
      "text/plain": [
       "array([1.8297647 , 0.43685307, 2.18130142, ..., 2.11533669, 1.52867604,\n",
       "       1.13350954])"
      ]
     },
     "execution_count": 24,
     "metadata": {},
     "output_type": "execute_result"
    }
   ],
   "source": [
    "# sorted(np.random.triangular(100,110, 150,10))\n",
    "s    "
   ]
  },
  {
   "cell_type": "code",
   "execution_count": 99,
   "metadata": {},
   "outputs": [
    {
     "data": {
      "image/png": "[encoded data removed]",
      "text/plain": [
       "<Figure size 432x288 with 1 Axes>"
      ]
     },
     "metadata": {
      "needs_background": "light"
     },
     "output_type": "display_data"
    }
   ],
   "source": []
  },
  {
   "cell_type": "code",
   "execution_count": 106,
   "metadata": {},
   "outputs": [
    {
     "data": {
      "image/png": "[encoded data removed]",
      "text/plain": [
       "<Figure size 432x288 with 1 Axes>"
      ]
     },
     "metadata": {
      "needs_background": "light"
     },
     "output_type": "display_data"
    },
    {
     "name": "stdout",
     "output_type": "stream",
     "text": [
      "80.3424368615439 25.0 0.3111680573379062\n",
      "80.41991461440456 25.0 0.3108682733607638\n",
      "80.44824685405355 25.0 0.3107587918647145\n",
      "80.45276409065644 25.0 0.31074134347738874\n",
      "80.6165542638704 25.0 0.31011000443123815\n",
      "80.70710265973094 25.0 0.3097620801158289\n",
      "80.7239500093848 25.0 0.30969743176707226\n",
      "80.8057888189368 25.0 0.30938377516514337\n",
      "80.84269537845665 25.0 0.30924253431884113\n",
      "80.84532381039296 25.0 0.3092324802685268\n",
      "80.92679721239165 25.0 0.30892115913580176\n",
      "80.93796972003264 25.0 0.3088785163066964\n",
      "80.95221563118061 25.0 0.3088241600934104\n",
      "81.08722022846204 25.0 0.30830998928761977\n",
      "81.154831650623 25.0 0.3080531311755618\n",
      "81.16638825997991 25.0 0.3080092700432078\n",
      "81.17196435013504 25.0 0.3079881114144604\n",
      "81.80680766463188 25.0 0.3055980390102477\n",
      "81.84659015724345 25.0 0.3054494995084104\n",
      "82.656100076404 25.0 0.3024580155232463\n"
     ]
    }
   ],
   "source": [
    "import random\n",
    "orders = 20\n",
    "val = np.random.wald(1, 3, orders)\n",
    "h = plt.hist(val, bins=orders, density=True)\n",
    "plt.show()\n",
    "\n",
    "s = sorted(val)\n",
    "lower = 80\n",
    "upper = 130\n",
    "\n",
    "mid = (upper + lower) / 2\n",
    "last_price = 105\n",
    "total_value = 1000\n",
    "usd_size = total_value / orders / 2\n",
    "order_list = set()\n",
    "for i in range(orders):\n",
    "    ran = random.randrange(orders)\n",
    "    price = s[i] + lower\n",
    "    if price < last_price:\n",
    "        print(price , usd_size, usd_size / price)"
   ]
  },
  {
   "cell_type": "code",
   "execution_count": 88,
   "metadata": {},
   "outputs": [
    {
     "data": {
      "text/plain": [
       "25"
      ]
     },
     "execution_count": 88,
     "metadata": {},
     "output_type": "execute_result"
    }
   ],
   "source": [
    "num_orders = 100\n",
    "random.randrange(100)\n"
   ]
  },
  {
   "cell_type": "code",
   "execution_count": 127,
   "metadata": {},
   "outputs": [],
   "source": [
    "def solution(numbers, left, right):\n",
    "    res = [False]*len(numbers)\n",
    "    for index, i in enumerate(numbers):\n",
    "        t0 = int(i / (index + 1))\n",
    "        print(int(t0 * (index+1)), t0)\n",
    "        if int(t0 * (index+1)) == i:\n",
    "            if t0 >= left and t0 <= right:\n",
    "                res[index] = True\n",
    "    return res\n",
    "        "
   ]
  },
  {
   "cell_type": "code",
   "execution_count": 128,
   "metadata": {},
   "outputs": [
    {
     "name": "stdout",
     "output_type": "stream",
     "text": [
      "8 8\n",
      "4 2\n",
      "6 2\n",
      "16 4\n",
      "5 1\n"
     ]
    },
    {
     "data": {
      "text/plain": [
       "[False, False, True, False, True]"
      ]
     },
     "execution_count": 128,
     "metadata": {},
     "output_type": "execute_result"
    }
   ],
   "source": [
    "solution([8, 5, 6, 16, 5], 1, 3)"
   ]
  },
  {
   "cell_type": "code",
   "execution_count": 154,
   "metadata": {},
   "outputs": [
    {
     "data": {
      "text/plain": [
       "True"
      ]
     },
     "execution_count": 154,
     "metadata": {},
     "output_type": "execute_result"
    }
   ],
   "source": [
    "import itertools\n",
    "def strict(l):\n",
    "    last = l[0]\n",
    "    for i in range(1,len(l)):\n",
    "        if l[i] <= last:\n",
    "            return False\n",
    "        last = l[i]\n",
    "    return True\n",
    "\n",
    "def swap_two(number):\n",
    "    s = str(number)\n",
    "    nums = list(s)\n",
    "    permutations = list(itertools.permutations(nums))\n",
    "    r = [int(''.join(map(str, i))) for i in permutations]\n",
    "    return min(r)\n",
    "\n",
    "def solution(numbers):\n",
    "    count = 0\n",
    "    if strict(numbers):\n",
    "        return True\n",
    "    else:\n",
    "        for i in range(len(numbers)):\n",
    "            if swap_two(numbers[i]) < numbers[i]:\n",
    "                numbers[i] = swap_two(numbers[i])\n",
    "                if strict(numbers):\n",
    "                    count += 1\n",
    "        \n",
    "        if count == 1:\n",
    "            return True\n",
    "        return False\n",
    "\n",
    "\n",
    "        \n",
    "\n",
    "solution([1,2,3])\n"
   ]
  },
  {
   "cell_type": "code",
   "execution_count": 153,
   "metadata": {},
   "outputs": [
    {
     "data": {
      "text/plain": [
       "9"
      ]
     },
     "execution_count": 153,
     "metadata": {},
     "output_type": "execute_result"
    }
   ],
   "source": [
    "swap_two(900)"
   ]
  },
  {
   "cell_type": "code",
   "execution_count": 160,
   "metadata": {},
   "outputs": [
    {
     "data": {
      "text/plain": [
       "'SELECT'"
      ]
     },
     "execution_count": 160,
     "metadata": {},
     "output_type": "execute_result"
    }
   ],
   "source": [
    "a = \"SELECT Ijfijal\"\n",
    "a.split(\" \",1)[0]\n"
   ]
  },
  {
   "cell_type": "code",
   "execution_count": 224,
   "metadata": {},
   "outputs": [],
   "source": [
    "\n",
    "\n",
    "def type_com(cursor,text):\n",
    "    print(\"typing now\")\n",
    "    pre = ret[:cursor]\n",
    "    post = ret[cursor:]\n",
    "    ret = pre + text + post\n",
    "    print(ret)\n",
    "\n",
    "\n",
    "def select(start, end):\n",
    "    print(\"selecting\", start, end)\n",
    "    \n",
    "def move(offset):\n",
    "    print(\"moving cursor to \", offset)\n",
    "\n",
    "def copy():\n",
    "    print(\"copying selected text\")\n",
    "\n",
    "def paste(steps):\n",
    "    print(\"pasting \", steps)\n",
    "    \n",
    "def solution(operations):\n",
    "    cursor = 0\n",
    "    clipboard = list()\n",
    "    ret = \"\"\n",
    "    selected_text = \"\"\n",
    "    for i in operations:\n",
    "        split = i.split(\" \", 1)\n",
    "        operation = split[0]\n",
    "        \n",
    "        if operation == \"TYPE\": \n",
    "            pre = ret[:cursor]\n",
    "            post = ret[cursor:]\n",
    "            ret = pre + split[1] + post\n",
    "            \n",
    "        elif operation == \"SELECT\":\n",
    "            indexes = split[1].split(\" \")\n",
    "            start, end = int(indexes[0]), int(indexes[1])\n",
    "            selected_text = ret[start:end]\n",
    "\n",
    "        elif operation == \"MOVE_CURSOR\":\n",
    "            pre = ret[:int(split[1])]\n",
    "            post = ret[int(split[1]):]\n",
    "            ret = pre + \"|\" + post\n",
    "\n",
    "        elif operation == \"COPY\":\n",
    "            clipboard.append(selected_text)\n",
    "        elif operation == \"PASTE\":\n",
    "            back = 1\n",
    "            if(len(split)==2):\n",
    "                back = split[1]\n",
    "            \n",
    "            pre = ret[:cursor]\n",
    "            post = ret[cursor:]\n",
    "            ret = pre + clipboard[int(back) * -1] + post\n",
    "            \n",
    "\n",
    "    \n",
    "    \n",
    "        \n",
    "    \n",
    "        \n",
    "    \n",
    "        \n",
    "    \n",
    "        \n",
    "    \n",
    "    "
   ]
  },
  {
   "cell_type": "code",
   "execution_count": 225,
   "metadata": {},
   "outputs": [],
   "source": [
    "solution([\"TYPE Great Britain is the capital of London\", \"SELECT 0 12\", \"COPY\", \"SELECT 32 37\", \"COPY\", \"PASTE 2\", \"SELECT 0 12\", \"PASTE\", \"MOVE_CURSOR 32\", \"TYPE !\"])"
   ]
  },
  {
   "cell_type": "code",
   "execution_count": 174,
   "metadata": {},
   "outputs": [
    {
     "data": {
      "text/plain": [
       "['0', '12']"
      ]
     },
     "execution_count": 174,
     "metadata": {},
     "output_type": "execute_result"
    }
   ],
   "source": [
    "a = \"SELECT 0 12\"\n",
    "a.split(\" \", 1)[1].split(\" \")\n"
   ]
  },
  {
   "cell_type": "code",
   "execution_count": null,
   "metadata": {},
   "outputs": [],
   "source": []
  }
 ],
 "metadata": {
  "interpreter": {
   "hash": "b0fa6594d8f4cbf19f97940f81e996739fb7646882a419484c72d19e05852a7e"
  },
  "kernelspec": {
   "display_name": "Python 3.9.8 64-bit",
   "language": "python",
   "name": "python3"
  },
  "language_info": {
   "codemirror_mode": {
    "name": "ipython",
    "version": 3
   },
   "file_extension": ".py",
   "mimetype": "text/x-python",
   "name": "python",
   "nbconvert_exporter": "python",
   "pygments_lexer": "ipython3",
   "version": "3.9.8"
  },
  "orig_nbformat": 4
 },
 "nbformat": 4,
 "nbformat_minor": 2
}
